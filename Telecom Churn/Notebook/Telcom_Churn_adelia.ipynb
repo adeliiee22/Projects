{
  "nbformat": 4,
  "nbformat_minor": 0,
  "metadata": {
    "colab": {
      "provenance": []
    },
    "kernelspec": {
      "name": "python3",
      "display_name": "Python 3"
    },
    "language_info": {
      "name": "python"
    }
  },
  "cells": [
    {
      "cell_type": "markdown",
      "source": [
        "#Importing Features and Data"
      ],
      "metadata": {
        "id": "s3YuOSnxTFw1"
      }
    },
    {
      "cell_type": "code",
      "execution_count": 1,
      "metadata": {
        "colab": {
          "base_uri": "https://localhost:8080/"
        },
        "id": "zQx6--GjS-zk",
        "outputId": "25523f4f-dfef-4140-cb04-cb9fef01593b"
      },
      "outputs": [
        {
          "output_type": "stream",
          "name": "stdout",
          "text": [
            "Collecting pyspark\n",
            "  Downloading pyspark-3.5.1.tar.gz (317.0 MB)\n",
            "\u001b[2K     \u001b[90m━━━━━━━━━━━━━━━━━━━━━━━━━━━━━━━━━━━━━━━━\u001b[0m \u001b[32m317.0/317.0 MB\u001b[0m \u001b[31m2.6 MB/s\u001b[0m eta \u001b[36m0:00:00\u001b[0m\n",
            "\u001b[?25h  Preparing metadata (setup.py) ... \u001b[?25l\u001b[?25hdone\n",
            "Requirement already satisfied: py4j==0.10.9.7 in /usr/local/lib/python3.10/dist-packages (from pyspark) (0.10.9.7)\n",
            "Building wheels for collected packages: pyspark\n",
            "  Building wheel for pyspark (setup.py) ... \u001b[?25l\u001b[?25hdone\n",
            "  Created wheel for pyspark: filename=pyspark-3.5.1-py2.py3-none-any.whl size=317488491 sha256=f66c6bf274e9f13521eb74c42d49ee41639072e5cb6c7927ba701842c0924362\n",
            "  Stored in directory: /root/.cache/pip/wheels/80/1d/60/2c256ed38dddce2fdd93be545214a63e02fbd8d74fb0b7f3a6\n",
            "Successfully built pyspark\n",
            "Installing collected packages: pyspark\n",
            "Successfully installed pyspark-3.5.1\n",
            "tar: spark-3.2.0-bin-hadoop3.2.tgz: Cannot open: No such file or directory\n",
            "tar: Error is not recoverable: exiting now\n",
            "Collecting findspark\n",
            "  Downloading findspark-2.0.1-py2.py3-none-any.whl (4.4 kB)\n",
            "Installing collected packages: findspark\n",
            "Successfully installed findspark-2.0.1\n"
          ]
        }
      ],
      "source": [
        "!pip install pyspark\n",
        "!apt-get install openjdk-8-jdk-headless -qq > /dev/null\n",
        "!wget -q https://downloads.apache.org/spark/spark-3.2.0/spark-3.2.0-bin-hadoop3.2.tgz\n",
        "!tar xf spark-3.2.0-bin-hadoop3.2.tgz\n",
        "!pip install findspark"
      ]
    },
    {
      "cell_type": "code",
      "source": [
        "from pyspark.sql import SQLContext\n",
        "from pyspark.sql.functions import isnan, when, count, col, translate, trim\n",
        "from pyspark.sql.types import IntegerType\n",
        "from pyspark.sql.types import FloatType\n",
        "from pyspark.sql import functions as F\n",
        "from pyspark.sql import SparkSession\n",
        "\n",
        "\n",
        "spark = SparkSession.builder.appName(\"UserItemInteractionMatrix\").appName(\"UserItemInteractionMatrix\").config(\"spark.sql.pivotMaxValues\", 1000000).config(\"spark.driver.memory\", \"8g\").config(\"spark.executor.memory\", \"8g\").getOrCreate()\n",
        "sc = spark.sparkContext\n",
        "\n",
        "sqlContext = SQLContext(sc)"
      ],
      "metadata": {
        "colab": {
          "base_uri": "https://localhost:8080/"
        },
        "id": "thyJyhs1TBCZ",
        "outputId": "aec8cbb4-ea1c-494f-e188-5c4c249482e1"
      },
      "execution_count": 2,
      "outputs": [
        {
          "output_type": "stream",
          "name": "stderr",
          "text": [
            "/usr/local/lib/python3.10/dist-packages/pyspark/sql/context.py:113: FutureWarning: Deprecated in 3.0.0. Use SparkSession.builder.getOrCreate() instead.\n",
            "  warnings.warn(\n"
          ]
        }
      ]
    },
    {
      "cell_type": "markdown",
      "source": [
        "## Mount to Gdrives"
      ],
      "metadata": {
        "id": "JGFkzIR6TQGZ"
      }
    },
    {
      "cell_type": "code",
      "source": [
        "from google.colab import drive\n",
        "drive.mount('/content/drive', force_remount=True)\n",
        "\n",
        "import pandas as pd\n",
        "df_churn = sqlContext.read.csv(\"/content/drive/MyDrive/Big data 2024/CSV 2/telecom - telecom.csv\", header=True, inferSchema = True)"
      ],
      "metadata": {
        "colab": {
          "base_uri": "https://localhost:8080/"
        },
        "id": "clzX74mlTEXX",
        "outputId": "ca2501b1-9d35-43aa-9ec9-b7595bcb319d"
      },
      "execution_count": 3,
      "outputs": [
        {
          "output_type": "stream",
          "name": "stdout",
          "text": [
            "Mounted at /content/drive\n"
          ]
        }
      ]
    },
    {
      "cell_type": "markdown",
      "source": [
        "### Checking the Number of Rows and Columns"
      ],
      "metadata": {
        "id": "HYtJEzusTLcx"
      }
    },
    {
      "cell_type": "code",
      "source": [
        "df_churn.show(5)"
      ],
      "metadata": {
        "colab": {
          "base_uri": "https://localhost:8080/"
        },
        "id": "AQQ_lEq-UAr4",
        "outputId": "5e5a14f7-4d9b-4605-f1ca-c5f56e608768"
      },
      "execution_count": 4,
      "outputs": [
        {
          "output_type": "stream",
          "name": "stdout",
          "text": [
            "+------+-------------+-------+----------+------+------------+----------------+---------------+--------------+------------+----------------+-----------+-----------+---------------+--------------+----------------+--------------------+--------------+------------+-----+\n",
            "|gender|SeniorCitizen|Partner|Dependents|tenure|PhoneService|   MultipleLines|InternetService|OnlineSecurity|OnlineBackup|DeviceProtection|TechSupport|StreamingTV|StreamingMovies|      Contract|PaperlessBilling|       PaymentMethod|MonthlyCharges|TotalCharges|Churn|\n",
            "+------+-------------+-------+----------+------+------------+----------------+---------------+--------------+------------+----------------+-----------+-----------+---------------+--------------+----------------+--------------------+--------------+------------+-----+\n",
            "|Female|            0|    Yes|        No|     1|          No|No phone service|            DSL|            No|         Yes|              No|         No|         No|             No|Month-to-month|             Yes|    Electronic check|         29.85|       29.85|   No|\n",
            "|  Male|            0|     No|        No|    34|         Yes|              No|            DSL|           Yes|          No|             Yes|         No|         No|             No|      One year|              No|        Mailed check|         56.95|      1889.5|   No|\n",
            "|  Male|            0|     No|        No|     2|         Yes|              No|            DSL|           Yes|         Yes|              No|         No|         No|             No|Month-to-month|             Yes|        Mailed check|         53.85|      108.15|  Yes|\n",
            "|  Male|            0|     No|        No|  NULL|          No|No phone service|            DSL|           Yes|          No|             Yes|        Yes|         No|             No|      One year|              No|Bank transfer (au...|          42.3|     1840.75|   No|\n",
            "|Female|            0|     No|        No|     2|         Yes|              No|    Fiber optic|            No|          No|              No|         No|         No|             No|Month-to-month|             Yes|    Electronic check|          70.7|      151.65|  Yes|\n",
            "+------+-------------+-------+----------+------+------------+----------------+---------------+--------------+------------+----------------+-----------+-----------+---------------+--------------+----------------+--------------------+--------------+------------+-----+\n",
            "only showing top 5 rows\n",
            "\n"
          ]
        }
      ]
    },
    {
      "cell_type": "code",
      "source": [
        "num_columns = len(df_churn.columns)\n",
        "print(\"Number of columns:\", num_columns)"
      ],
      "metadata": {
        "colab": {
          "base_uri": "https://localhost:8080/"
        },
        "id": "F9HUXoG_T-0Q",
        "outputId": "756ff711-7714-40fc-9467-3a23d0b6786a"
      },
      "execution_count": 5,
      "outputs": [
        {
          "output_type": "stream",
          "name": "stdout",
          "text": [
            "Number of columns: 20\n"
          ]
        }
      ]
    },
    {
      "cell_type": "code",
      "source": [
        "df_churn.count()"
      ],
      "metadata": {
        "colab": {
          "base_uri": "https://localhost:8080/"
        },
        "id": "Fsx4GJXMT76d",
        "outputId": "03d938bf-e0c3-4a29-da3e-aaa09e388cce"
      },
      "execution_count": 6,
      "outputs": [
        {
          "output_type": "execute_result",
          "data": {
            "text/plain": [
              "7043"
            ]
          },
          "metadata": {},
          "execution_count": 6
        }
      ]
    },
    {
      "cell_type": "code",
      "source": [
        "df_churn.printSchema()"
      ],
      "metadata": {
        "colab": {
          "base_uri": "https://localhost:8080/"
        },
        "id": "jQRcugzmUCiY",
        "outputId": "4960074b-91c9-43d1-9cdf-436952b07321"
      },
      "execution_count": 7,
      "outputs": [
        {
          "output_type": "stream",
          "name": "stdout",
          "text": [
            "root\n",
            " |-- gender: string (nullable = true)\n",
            " |-- SeniorCitizen: integer (nullable = true)\n",
            " |-- Partner: string (nullable = true)\n",
            " |-- Dependents: string (nullable = true)\n",
            " |-- tenure: integer (nullable = true)\n",
            " |-- PhoneService: string (nullable = true)\n",
            " |-- MultipleLines: string (nullable = true)\n",
            " |-- InternetService: string (nullable = true)\n",
            " |-- OnlineSecurity: string (nullable = true)\n",
            " |-- OnlineBackup: string (nullable = true)\n",
            " |-- DeviceProtection: string (nullable = true)\n",
            " |-- TechSupport: string (nullable = true)\n",
            " |-- StreamingTV: string (nullable = true)\n",
            " |-- StreamingMovies: string (nullable = true)\n",
            " |-- Contract: string (nullable = true)\n",
            " |-- PaperlessBilling: string (nullable = true)\n",
            " |-- PaymentMethod: string (nullable = true)\n",
            " |-- MonthlyCharges: double (nullable = true)\n",
            " |-- TotalCharges: double (nullable = true)\n",
            " |-- Churn: string (nullable = true)\n",
            "\n"
          ]
        }
      ]
    },
    {
      "cell_type": "markdown",
      "source": [
        "# Data Wrangling"
      ],
      "metadata": {
        "id": "g31ufPPbUE59"
      }
    },
    {
      "cell_type": "markdown",
      "source": [
        "## Remove Missing Values"
      ],
      "metadata": {
        "id": "2dJLe7MRULJX"
      }
    },
    {
      "cell_type": "code",
      "source": [
        "df_churn.select([count(when(col(c).isNull(), c)).alias(c) for c in df_churn.columns]).show()"
      ],
      "metadata": {
        "colab": {
          "base_uri": "https://localhost:8080/"
        },
        "id": "0e70if2DUHH2",
        "outputId": "223ff5e9-67ff-4603-ea72-f77ad154a6b6"
      },
      "execution_count": 8,
      "outputs": [
        {
          "output_type": "stream",
          "name": "stdout",
          "text": [
            "+------+-------------+-------+----------+------+------------+-------------+---------------+--------------+------------+----------------+-----------+-----------+---------------+--------+----------------+-------------+--------------+------------+-----+\n",
            "|gender|SeniorCitizen|Partner|Dependents|tenure|PhoneService|MultipleLines|InternetService|OnlineSecurity|OnlineBackup|DeviceProtection|TechSupport|StreamingTV|StreamingMovies|Contract|PaperlessBilling|PaymentMethod|MonthlyCharges|TotalCharges|Churn|\n",
            "+------+-------------+-------+----------+------+------------+-------------+---------------+--------------+------------+----------------+-----------+-----------+---------------+--------+----------------+-------------+--------------+------------+-----+\n",
            "|     0|            0|      0|         0|     2|           0|            3|              0|             0|           0|               0|          0|          0|              0|       0|               0|            0|             0|          11|    0|\n",
            "+------+-------------+-------+----------+------+------------+-------------+---------------+--------------+------------+----------------+-----------+-----------+---------------+--------+----------------+-------------+--------------+------------+-----+\n",
            "\n"
          ]
        }
      ]
    },
    {
      "cell_type": "code",
      "source": [
        "df_churn = df_churn.dropna(how='any')\n",
        "df_churn.select([count(when(col(c).isNull(), c)).alias(c) for c in df_churn.columns]).show()"
      ],
      "metadata": {
        "colab": {
          "base_uri": "https://localhost:8080/"
        },
        "id": "kV4NY359UOOu",
        "outputId": "cb2e937e-c9e5-470f-e12c-d3c7a5621708"
      },
      "execution_count": 9,
      "outputs": [
        {
          "output_type": "stream",
          "name": "stdout",
          "text": [
            "+------+-------------+-------+----------+------+------------+-------------+---------------+--------------+------------+----------------+-----------+-----------+---------------+--------+----------------+-------------+--------------+------------+-----+\n",
            "|gender|SeniorCitizen|Partner|Dependents|tenure|PhoneService|MultipleLines|InternetService|OnlineSecurity|OnlineBackup|DeviceProtection|TechSupport|StreamingTV|StreamingMovies|Contract|PaperlessBilling|PaymentMethod|MonthlyCharges|TotalCharges|Churn|\n",
            "+------+-------------+-------+----------+------+------------+-------------+---------------+--------------+------------+----------------+-----------+-----------+---------------+--------+----------------+-------------+--------------+------------+-----+\n",
            "|     0|            0|      0|         0|     0|           0|            0|              0|             0|           0|               0|          0|          0|              0|       0|               0|            0|             0|           0|    0|\n",
            "+------+-------------+-------+----------+------+------------+-------------+---------------+--------------+------------+----------------+-----------+-----------+---------------+--------+----------------+-------------+--------------+------------+-----+\n",
            "\n"
          ]
        }
      ]
    },
    {
      "cell_type": "markdown",
      "source": [
        "## Encoding"
      ],
      "metadata": {
        "id": "g967vj51UQf9"
      }
    },
    {
      "cell_type": "code",
      "source": [
        "from pyspark.sql.functions import lit, when"
      ],
      "metadata": {
        "id": "jOcyBvjAUS0x"
      },
      "execution_count": 10,
      "outputs": []
    },
    {
      "cell_type": "code",
      "source": [
        "df_churn = df_churn.withColumn(\"MultipleLines\", when(df_churn[\"MultipleLines\"] == \"No phone service\", lit(\"No\")).otherwise(df_churn[\"MultipleLines\"]))\n",
        "df_churn = df_churn.withColumn(\"OnlineSecurity\", when(df_churn[\"OnlineSecurity\"] == \"No internet service\", lit(\"No\")).otherwise(df_churn[\"OnlineSecurity\"]))\n",
        "df_churn = df_churn.withColumn(\"OnlineBackup\", when(df_churn[\"OnlineBackup\"] == \"No internet service\", lit(\"No\")).otherwise(df_churn[\"OnlineBackup\"]))\n",
        "df_churn = df_churn.withColumn(\"DeviceProtection\", when(df_churn[\"DeviceProtection\"] == \"No internet service\", lit(\"No\")).otherwise(df_churn[\"DeviceProtection\"]))\n",
        "df_churn = df_churn.withColumn(\"TechSupport\", when(df_churn[\"TechSupport\"] == \"No internet service\", lit(\"No\")).otherwise(df_churn[\"TechSupport\"]))\n",
        "df_churn = df_churn.withColumn(\"StreamingTV\", when(df_churn[\"StreamingTV\"] == \"No internet service\", lit(\"No\")).otherwise(df_churn[\"StreamingTV\"]))\n",
        "df_churn = df_churn.withColumn(\"StreamingMovies\", when(df_churn[\"StreamingMovies\"] == \"No internet service\", lit(\"No\")).otherwise(df_churn[\"StreamingMovies\"]))\n",
        "df_churn = df_churn.withColumn(\"gender\", when(df_churn[\"gender\"] == \"Female\", lit(\"No\")).otherwise(df_churn[\"gender\"]))\n",
        "df_churn = df_churn.withColumn(\"gender\", when(df_churn[\"gender\"] == \"Male\", lit(\"Yes\")).otherwise(df_churn[\"gender\"]))"
      ],
      "metadata": {
        "id": "v8dlamy1UU0e"
      },
      "execution_count": 11,
      "outputs": []
    },
    {
      "cell_type": "markdown",
      "source": [
        "Replacing 'No service' with 'No' value, by converting 'No service' to 'No' and then encoding 'Yes' as 1 and 'No' as 0, to prepare the data for algorithms that require numerical input."
      ],
      "metadata": {
        "id": "4bOrNY7TUZDk"
      }
    },
    {
      "cell_type": "code",
      "source": [
        "df_temp = [\"gender\", \"MultipleLines\", \"OnlineSecurity\", \"OnlineBackup\", \"DeviceProtection\", \"TechSupport\", \"StreamingTV\", \"StreamingMovies\", \"PaperlessBilling\", \"Churn\", \"Partner\", \"Dependents\", \"PhoneService\"]\n",
        "\n",
        "for col in df_temp:\n",
        "    df_churn = df_churn.withColumn(col, when(df_churn[col] == \"No\", lit(0)).otherwise(when(df_churn[col] == \"Yes\", lit(1)).otherwise(df_churn[col])))\n",
        "\n",
        "df_churn.show(5)"
      ],
      "metadata": {
        "colab": {
          "base_uri": "https://localhost:8080/"
        },
        "id": "gH2FZkQhVA1t",
        "outputId": "882f82e9-5055-4766-c5ec-774c1fb6447f"
      },
      "execution_count": 12,
      "outputs": [
        {
          "output_type": "stream",
          "name": "stdout",
          "text": [
            "+------+-------------+-------+----------+------+------------+-------------+---------------+--------------+------------+----------------+-----------+-----------+---------------+--------------+----------------+----------------+--------------+------------+-----+\n",
            "|gender|SeniorCitizen|Partner|Dependents|tenure|PhoneService|MultipleLines|InternetService|OnlineSecurity|OnlineBackup|DeviceProtection|TechSupport|StreamingTV|StreamingMovies|      Contract|PaperlessBilling|   PaymentMethod|MonthlyCharges|TotalCharges|Churn|\n",
            "+------+-------------+-------+----------+------+------------+-------------+---------------+--------------+------------+----------------+-----------+-----------+---------------+--------------+----------------+----------------+--------------+------------+-----+\n",
            "|     0|            0|      1|         0|     1|           0|            0|            DSL|             0|           1|               0|          0|          0|              0|Month-to-month|               1|Electronic check|         29.85|       29.85|    0|\n",
            "|     1|            0|      0|         0|    34|           1|            0|            DSL|             1|           0|               1|          0|          0|              0|      One year|               0|    Mailed check|         56.95|      1889.5|    0|\n",
            "|     1|            0|      0|         0|     2|           1|            0|            DSL|             1|           1|               0|          0|          0|              0|Month-to-month|               1|    Mailed check|         53.85|      108.15|    1|\n",
            "|     0|            0|      0|         0|     2|           1|            0|    Fiber optic|             0|           0|               0|          0|          0|              0|Month-to-month|               1|Electronic check|          70.7|      151.65|    1|\n",
            "|     0|            0|      0|         0|     8|           1|            1|    Fiber optic|             0|           0|               1|          0|          1|              1|Month-to-month|               1|Electronic check|         99.65|       820.5|    1|\n",
            "+------+-------------+-------+----------+------+------------+-------------+---------------+--------------+------------+----------------+-----------+-----------+---------------+--------------+----------------+----------------+--------------+------------+-----+\n",
            "only showing top 5 rows\n",
            "\n"
          ]
        }
      ]
    },
    {
      "cell_type": "markdown",
      "source": [
        "### One hot encoding"
      ],
      "metadata": {
        "id": "o8eV5Wj2VUjE"
      }
    },
    {
      "cell_type": "code",
      "source": [
        "from pyspark.sql import SparkSession\n",
        "from pyspark.ml.feature import StringIndexer, OneHotEncoder"
      ],
      "metadata": {
        "id": "e1C7zu7UVGG6"
      },
      "execution_count": 13,
      "outputs": []
    },
    {
      "cell_type": "code",
      "source": [
        "df_churn = df_churn.withColumn(\"Internet_DSL\", when(df_churn[\"InternetService\"] == \"DSL\", 1).otherwise(0)) \\\n",
        "    .withColumn(\"Internet_Fiber optic\", when(df_churn[\"InternetService\"] == \"Fiber optic\", 1).otherwise(0)) \\\n",
        "    .withColumn(\"Internet_none\", when(df_churn[\"InternetService\"] == \"No\", 1).otherwise(0)) \\\n",
        "    .withColumn(\"Contract_month\", when(df_churn[\"Contract\"] == \"Month-to-month\", 1).otherwise(0)) \\\n",
        "    .withColumn(\"Contract_one_year\", when(df_churn[\"Contract\"] == \"One year\", 1).otherwise(0)) \\\n",
        "    .withColumn(\"Contract_two_year\", when(df_churn[\"Contract\"] == \"Two year\", 1).otherwise(0)) \\\n",
        "    .withColumn(\"Payment_Electronic\", when(df_churn[\"PaymentMethod\"] == \"Electronic check\", 1).otherwise(0)) \\\n",
        "    .withColumn(\"Payment_Mailed\", when(df_churn[\"PaymentMethod\"] == \"Mailed check\", 1).otherwise(0)) \\\n",
        "    .withColumn(\"Payment_Bank\", when(df_churn[\"PaymentMethod\"] == \"Bank transfer (automatic)\", 1).otherwise(0)) \\\n",
        "    .withColumn(\"Payment_Credit\", when(df_churn[\"PaymentMethod\"] == \"Credit card (automatic)\", 1).otherwise(0)) \\\n",
        "\n",
        "\n",
        "df_churn.show(5)"
      ],
      "metadata": {
        "colab": {
          "base_uri": "https://localhost:8080/"
        },
        "id": "Bzt5POXrVYDh",
        "outputId": "98dd7196-2656-445a-dec2-9656f6497fcd"
      },
      "execution_count": 14,
      "outputs": [
        {
          "output_type": "stream",
          "name": "stdout",
          "text": [
            "+------+-------------+-------+----------+------+------------+-------------+---------------+--------------+------------+----------------+-----------+-----------+---------------+--------------+----------------+----------------+--------------+------------+-----+------------+--------------------+-------------+--------------+-----------------+-----------------+------------------+--------------+------------+--------------+\n",
            "|gender|SeniorCitizen|Partner|Dependents|tenure|PhoneService|MultipleLines|InternetService|OnlineSecurity|OnlineBackup|DeviceProtection|TechSupport|StreamingTV|StreamingMovies|      Contract|PaperlessBilling|   PaymentMethod|MonthlyCharges|TotalCharges|Churn|Internet_DSL|Internet_Fiber optic|Internet_none|Contract_month|Contract_one_year|Contract_two_year|Payment_Electronic|Payment_Mailed|Payment_Bank|Payment_Credit|\n",
            "+------+-------------+-------+----------+------+------------+-------------+---------------+--------------+------------+----------------+-----------+-----------+---------------+--------------+----------------+----------------+--------------+------------+-----+------------+--------------------+-------------+--------------+-----------------+-----------------+------------------+--------------+------------+--------------+\n",
            "|     0|            0|      1|         0|     1|           0|            0|            DSL|             0|           1|               0|          0|          0|              0|Month-to-month|               1|Electronic check|         29.85|       29.85|    0|           1|                   0|            0|             1|                0|                0|                 1|             0|           0|             0|\n",
            "|     1|            0|      0|         0|    34|           1|            0|            DSL|             1|           0|               1|          0|          0|              0|      One year|               0|    Mailed check|         56.95|      1889.5|    0|           1|                   0|            0|             0|                1|                0|                 0|             1|           0|             0|\n",
            "|     1|            0|      0|         0|     2|           1|            0|            DSL|             1|           1|               0|          0|          0|              0|Month-to-month|               1|    Mailed check|         53.85|      108.15|    1|           1|                   0|            0|             1|                0|                0|                 0|             1|           0|             0|\n",
            "|     0|            0|      0|         0|     2|           1|            0|    Fiber optic|             0|           0|               0|          0|          0|              0|Month-to-month|               1|Electronic check|          70.7|      151.65|    1|           0|                   1|            0|             1|                0|                0|                 1|             0|           0|             0|\n",
            "|     0|            0|      0|         0|     8|           1|            1|    Fiber optic|             0|           0|               1|          0|          1|              1|Month-to-month|               1|Electronic check|         99.65|       820.5|    1|           0|                   1|            0|             1|                0|                0|                 1|             0|           0|             0|\n",
            "+------+-------------+-------+----------+------+------------+-------------+---------------+--------------+------------+----------------+-----------+-----------+---------------+--------------+----------------+----------------+--------------+------------+-----+------------+--------------------+-------------+--------------+-----------------+-----------------+------------------+--------------+------------+--------------+\n",
            "only showing top 5 rows\n",
            "\n"
          ]
        }
      ]
    },
    {
      "cell_type": "markdown",
      "source": [
        "## Dropping Columns"
      ],
      "metadata": {
        "id": "Ojl8oMxKV_hp"
      }
    },
    {
      "cell_type": "code",
      "source": [
        "df_churn = df_churn.drop(\"InternetService\", \"Contract\", \"PaymentMethod\")\n",
        "\n",
        "# Show the DataFrame after dropping columns\n",
        "df_churn.show(5)"
      ],
      "metadata": {
        "colab": {
          "base_uri": "https://localhost:8080/"
        },
        "id": "RxFdDIMyVbTo",
        "outputId": "ed843700-4dcc-4ce7-a54e-fdc0accaa7d9"
      },
      "execution_count": 15,
      "outputs": [
        {
          "output_type": "stream",
          "name": "stdout",
          "text": [
            "+------+-------------+-------+----------+------+------------+-------------+--------------+------------+----------------+-----------+-----------+---------------+----------------+--------------+------------+-----+------------+--------------------+-------------+--------------+-----------------+-----------------+------------------+--------------+------------+--------------+\n",
            "|gender|SeniorCitizen|Partner|Dependents|tenure|PhoneService|MultipleLines|OnlineSecurity|OnlineBackup|DeviceProtection|TechSupport|StreamingTV|StreamingMovies|PaperlessBilling|MonthlyCharges|TotalCharges|Churn|Internet_DSL|Internet_Fiber optic|Internet_none|Contract_month|Contract_one_year|Contract_two_year|Payment_Electronic|Payment_Mailed|Payment_Bank|Payment_Credit|\n",
            "+------+-------------+-------+----------+------+------------+-------------+--------------+------------+----------------+-----------+-----------+---------------+----------------+--------------+------------+-----+------------+--------------------+-------------+--------------+-----------------+-----------------+------------------+--------------+------------+--------------+\n",
            "|     0|            0|      1|         0|     1|           0|            0|             0|           1|               0|          0|          0|              0|               1|         29.85|       29.85|    0|           1|                   0|            0|             1|                0|                0|                 1|             0|           0|             0|\n",
            "|     1|            0|      0|         0|    34|           1|            0|             1|           0|               1|          0|          0|              0|               0|         56.95|      1889.5|    0|           1|                   0|            0|             0|                1|                0|                 0|             1|           0|             0|\n",
            "|     1|            0|      0|         0|     2|           1|            0|             1|           1|               0|          0|          0|              0|               1|         53.85|      108.15|    1|           1|                   0|            0|             1|                0|                0|                 0|             1|           0|             0|\n",
            "|     0|            0|      0|         0|     2|           1|            0|             0|           0|               0|          0|          0|              0|               1|          70.7|      151.65|    1|           0|                   1|            0|             1|                0|                0|                 1|             0|           0|             0|\n",
            "|     0|            0|      0|         0|     8|           1|            1|             0|           0|               1|          0|          1|              1|               1|         99.65|       820.5|    1|           0|                   1|            0|             1|                0|                0|                 1|             0|           0|             0|\n",
            "+------+-------------+-------+----------+------+------------+-------------+--------------+------------+----------------+-----------+-----------+---------------+----------------+--------------+------------+-----+------------+--------------------+-------------+--------------+-----------------+-----------------+------------------+--------------+------------+--------------+\n",
            "only showing top 5 rows\n",
            "\n"
          ]
        }
      ]
    },
    {
      "cell_type": "markdown",
      "source": [
        "## Changing Data Types"
      ],
      "metadata": {
        "id": "qK1l5MUuY5MA"
      }
    },
    {
      "cell_type": "code",
      "source": [
        "df_churn.printSchema()"
      ],
      "metadata": {
        "colab": {
          "base_uri": "https://localhost:8080/"
        },
        "id": "Kdjd4P0uWFfz",
        "outputId": "b5365266-9523-45c4-c0ac-71f2d1d741e0"
      },
      "execution_count": 16,
      "outputs": [
        {
          "output_type": "stream",
          "name": "stdout",
          "text": [
            "root\n",
            " |-- gender: string (nullable = true)\n",
            " |-- SeniorCitizen: integer (nullable = true)\n",
            " |-- Partner: string (nullable = true)\n",
            " |-- Dependents: string (nullable = true)\n",
            " |-- tenure: integer (nullable = true)\n",
            " |-- PhoneService: string (nullable = true)\n",
            " |-- MultipleLines: string (nullable = true)\n",
            " |-- OnlineSecurity: string (nullable = true)\n",
            " |-- OnlineBackup: string (nullable = true)\n",
            " |-- DeviceProtection: string (nullable = true)\n",
            " |-- TechSupport: string (nullable = true)\n",
            " |-- StreamingTV: string (nullable = true)\n",
            " |-- StreamingMovies: string (nullable = true)\n",
            " |-- PaperlessBilling: string (nullable = true)\n",
            " |-- MonthlyCharges: double (nullable = true)\n",
            " |-- TotalCharges: double (nullable = true)\n",
            " |-- Churn: string (nullable = true)\n",
            " |-- Internet_DSL: integer (nullable = false)\n",
            " |-- Internet_Fiber optic: integer (nullable = false)\n",
            " |-- Internet_none: integer (nullable = false)\n",
            " |-- Contract_month: integer (nullable = false)\n",
            " |-- Contract_one_year: integer (nullable = false)\n",
            " |-- Contract_two_year: integer (nullable = false)\n",
            " |-- Payment_Electronic: integer (nullable = false)\n",
            " |-- Payment_Mailed: integer (nullable = false)\n",
            " |-- Payment_Bank: integer (nullable = false)\n",
            " |-- Payment_Credit: integer (nullable = false)\n",
            "\n"
          ]
        }
      ]
    },
    {
      "cell_type": "markdown",
      "source": [
        "Changing data types by doing indexing"
      ],
      "metadata": {
        "id": "HrzPoWUGWNKS"
      }
    },
    {
      "cell_type": "code",
      "source": [
        "from pyspark.ml.feature import StringIndexer\n",
        "\n",
        "# List of columns with string data type\n",
        "string_columns = [\"gender\", \"Partner\", \"Dependents\", \"PhoneService\", \"MultipleLines\", \"OnlineSecurity\", \"OnlineBackup\", \"DeviceProtection\", \"TechSupport\", \"StreamingTV\", \"StreamingMovies\", \"PaperlessBilling\", \"MonthlyCharges\", \"TotalCharges\", \"Churn\"]\n",
        "\n",
        "# Iterate through each string column and convert it to integer indices\n",
        "for col in string_columns:\n",
        "    # Create a StringIndexer object\n",
        "    indexer = StringIndexer(inputCol=col, outputCol=col + \"_index\")\n",
        "\n",
        "    # Fit the StringIndexer on the DataFrame and transform\n",
        "    df_churn = indexer.fit(df_churn).transform(df_churn)\n",
        "\n",
        "    # Drop the original string column\n",
        "    df_churn = df_churn.drop(col)\n",
        "\n",
        "df_churn.show(5)"
      ],
      "metadata": {
        "colab": {
          "base_uri": "https://localhost:8080/"
        },
        "id": "MOdrDpKdWQvP",
        "outputId": "50558a57-9868-4661-94a5-c3c0f79260d7"
      },
      "execution_count": 17,
      "outputs": [
        {
          "output_type": "stream",
          "name": "stdout",
          "text": [
            "+-------------+------+------------+--------------------+-------------+--------------+-----------------+-----------------+------------------+--------------+------------+--------------+------------+-------------+----------------+------------------+-------------------+--------------------+------------------+----------------------+-----------------+-----------------+---------------------+----------------------+--------------------+------------------+-----------+\n",
            "|SeniorCitizen|tenure|Internet_DSL|Internet_Fiber optic|Internet_none|Contract_month|Contract_one_year|Contract_two_year|Payment_Electronic|Payment_Mailed|Payment_Bank|Payment_Credit|gender_index|Partner_index|Dependents_index|PhoneService_index|MultipleLines_index|OnlineSecurity_index|OnlineBackup_index|DeviceProtection_index|TechSupport_index|StreamingTV_index|StreamingMovies_index|PaperlessBilling_index|MonthlyCharges_index|TotalCharges_index|Churn_index|\n",
            "+-------------+------+------------+--------------------+-------------+--------------+-----------------+-----------------+------------------+--------------+------------+--------------+------------+-------------+----------------+------------------+-------------------+--------------------+------------------+----------------------+-----------------+-----------------+---------------------+----------------------+--------------------+------------------+-----------+\n",
            "|            0|     1|           1|                   0|            0|             1|                0|                0|                 1|             0|           0|             0|         1.0|          1.0|             0.0|               1.0|                0.0|                 0.0|               1.0|                   0.0|              0.0|              0.0|                  0.0|                   0.0|               994.0|            2714.0|        0.0|\n",
            "|            0|    34|           1|                   0|            0|             0|                1|                0|                 0|             1|           0|             0|         0.0|          0.0|             0.0|               0.0|                0.0|                 1.0|               0.0|                   1.0|              0.0|              0.0|                  0.0|                   1.0|              1436.0|            1758.0|        0.0|\n",
            "|            0|     2|           1|                   0|            0|             1|                0|                0|                 0|             1|           0|             0|         0.0|          0.0|             0.0|               0.0|                0.0|                 1.0|               1.0|                   0.0|              0.0|              0.0|                  0.0|                   0.0|               613.0|             507.0|        1.0|\n",
            "|            0|     2|           0|                   1|            0|             1|                0|                0|                 1|             0|           0|             0|         1.0|          0.0|             0.0|               0.0|                0.0|                 0.0|               0.0|                   0.0|              0.0|              0.0|                  0.0|                   0.0|               132.0|            1241.0|        1.0|\n",
            "|            0|     8|           0|                   1|            0|             1|                0|                0|                 1|             0|           0|             0|         1.0|          0.0|             0.0|               0.0|                1.0|                 0.0|               0.0|                   1.0|              0.0|              1.0|                  1.0|                   0.0|               158.0|            6133.0|        1.0|\n",
            "+-------------+------+------------+--------------------+-------------+--------------+-----------------+-----------------+------------------+--------------+------------+--------------+------------+-------------+----------------+------------------+-------------------+--------------------+------------------+----------------------+-----------------+-----------------+---------------------+----------------------+--------------------+------------------+-----------+\n",
            "only showing top 5 rows\n",
            "\n"
          ]
        }
      ]
    },
    {
      "cell_type": "code",
      "source": [
        "from pyspark.sql.functions import col"
      ],
      "metadata": {
        "id": "UmdL6RGScGtR"
      },
      "execution_count": 18,
      "outputs": []
    },
    {
      "cell_type": "code",
      "source": [
        "# List of columns to be converted\n",
        "double_columns = [\"gender_index\", \"Partner_index\", \"Dependents_index\", \"PhoneService_index\", \"MultipleLines_index\", \"OnlineSecurity_index\", \"OnlineBackup_index\", \"DeviceProtection_index\", \"TechSupport_index\", \"StreamingTV_index\", \"StreamingMovies_index\", \"PaperlessBilling_index\", \"MonthlyCharges_index\", \"TotalCharges_index\", \"Churn_index\"]\n",
        "\n",
        "# Convert each column from double to integer\n",
        "for col_name in double_columns:\n",
        "    df_churn = df_churn.withColumn(col_name, col(col_name).cast(\"integer\"))\n",
        "\n",
        "df_churn.show(5)"
      ],
      "metadata": {
        "colab": {
          "base_uri": "https://localhost:8080/"
        },
        "id": "Nu3OM9mIcIc4",
        "outputId": "76ede65e-01a5-4e8a-bde1-97f51c776b38"
      },
      "execution_count": 19,
      "outputs": [
        {
          "output_type": "stream",
          "name": "stdout",
          "text": [
            "+-------------+------+------------+--------------------+-------------+--------------+-----------------+-----------------+------------------+--------------+------------+--------------+------------+-------------+----------------+------------------+-------------------+--------------------+------------------+----------------------+-----------------+-----------------+---------------------+----------------------+--------------------+------------------+-----------+\n",
            "|SeniorCitizen|tenure|Internet_DSL|Internet_Fiber optic|Internet_none|Contract_month|Contract_one_year|Contract_two_year|Payment_Electronic|Payment_Mailed|Payment_Bank|Payment_Credit|gender_index|Partner_index|Dependents_index|PhoneService_index|MultipleLines_index|OnlineSecurity_index|OnlineBackup_index|DeviceProtection_index|TechSupport_index|StreamingTV_index|StreamingMovies_index|PaperlessBilling_index|MonthlyCharges_index|TotalCharges_index|Churn_index|\n",
            "+-------------+------+------------+--------------------+-------------+--------------+-----------------+-----------------+------------------+--------------+------------+--------------+------------+-------------+----------------+------------------+-------------------+--------------------+------------------+----------------------+-----------------+-----------------+---------------------+----------------------+--------------------+------------------+-----------+\n",
            "|            0|     1|           1|                   0|            0|             1|                0|                0|                 1|             0|           0|             0|           1|            1|               0|                 1|                  0|                   0|                 1|                     0|                0|                0|                    0|                     0|                 994|              2714|          0|\n",
            "|            0|    34|           1|                   0|            0|             0|                1|                0|                 0|             1|           0|             0|           0|            0|               0|                 0|                  0|                   1|                 0|                     1|                0|                0|                    0|                     1|                1436|              1758|          0|\n",
            "|            0|     2|           1|                   0|            0|             1|                0|                0|                 0|             1|           0|             0|           0|            0|               0|                 0|                  0|                   1|                 1|                     0|                0|                0|                    0|                     0|                 613|               507|          1|\n",
            "|            0|     2|           0|                   1|            0|             1|                0|                0|                 1|             0|           0|             0|           1|            0|               0|                 0|                  0|                   0|                 0|                     0|                0|                0|                    0|                     0|                 132|              1241|          1|\n",
            "|            0|     8|           0|                   1|            0|             1|                0|                0|                 1|             0|           0|             0|           1|            0|               0|                 0|                  1|                   0|                 0|                     1|                0|                1|                    1|                     0|                 158|              6133|          1|\n",
            "+-------------+------+------------+--------------------+-------------+--------------+-----------------+-----------------+------------------+--------------+------------+--------------+------------+-------------+----------------+------------------+-------------------+--------------------+------------------+----------------------+-----------------+-----------------+---------------------+----------------------+--------------------+------------------+-----------+\n",
            "only showing top 5 rows\n",
            "\n"
          ]
        }
      ]
    },
    {
      "cell_type": "code",
      "source": [
        "df_churn.printSchema()"
      ],
      "metadata": {
        "colab": {
          "base_uri": "https://localhost:8080/"
        },
        "id": "XhyiWpsYb6g3",
        "outputId": "a6ef930b-bc6e-4a1a-bdc6-0396af85f21d"
      },
      "execution_count": 20,
      "outputs": [
        {
          "output_type": "stream",
          "name": "stdout",
          "text": [
            "root\n",
            " |-- SeniorCitizen: integer (nullable = true)\n",
            " |-- tenure: integer (nullable = true)\n",
            " |-- Internet_DSL: integer (nullable = false)\n",
            " |-- Internet_Fiber optic: integer (nullable = false)\n",
            " |-- Internet_none: integer (nullable = false)\n",
            " |-- Contract_month: integer (nullable = false)\n",
            " |-- Contract_one_year: integer (nullable = false)\n",
            " |-- Contract_two_year: integer (nullable = false)\n",
            " |-- Payment_Electronic: integer (nullable = false)\n",
            " |-- Payment_Mailed: integer (nullable = false)\n",
            " |-- Payment_Bank: integer (nullable = false)\n",
            " |-- Payment_Credit: integer (nullable = false)\n",
            " |-- gender_index: integer (nullable = true)\n",
            " |-- Partner_index: integer (nullable = true)\n",
            " |-- Dependents_index: integer (nullable = true)\n",
            " |-- PhoneService_index: integer (nullable = true)\n",
            " |-- MultipleLines_index: integer (nullable = true)\n",
            " |-- OnlineSecurity_index: integer (nullable = true)\n",
            " |-- OnlineBackup_index: integer (nullable = true)\n",
            " |-- DeviceProtection_index: integer (nullable = true)\n",
            " |-- TechSupport_index: integer (nullable = true)\n",
            " |-- StreamingTV_index: integer (nullable = true)\n",
            " |-- StreamingMovies_index: integer (nullable = true)\n",
            " |-- PaperlessBilling_index: integer (nullable = true)\n",
            " |-- MonthlyCharges_index: integer (nullable = true)\n",
            " |-- TotalCharges_index: integer (nullable = true)\n",
            " |-- Churn_index: integer (nullable = true)\n",
            "\n"
          ]
        }
      ]
    },
    {
      "cell_type": "markdown",
      "source": [
        "All of the string datatypes already transformed into integer datatypes"
      ],
      "metadata": {
        "id": "YCLBjUhOYqIl"
      }
    },
    {
      "cell_type": "markdown",
      "source": [
        "# EDA"
      ],
      "metadata": {
        "id": "Sgxeem_hY_yi"
      }
    },
    {
      "cell_type": "markdown",
      "source": [
        "## Descriptive Statistic"
      ],
      "metadata": {
        "id": "4ebxh-dvaIfS"
      }
    },
    {
      "cell_type": "code",
      "source": [
        "from pyspark.sql.functions import percentile"
      ],
      "metadata": {
        "id": "SIguStEYZATc"
      },
      "execution_count": 21,
      "outputs": []
    },
    {
      "cell_type": "markdown",
      "source": [
        "### Percentile"
      ],
      "metadata": {
        "id": "wpmd1xEYdExW"
      }
    },
    {
      "cell_type": "code",
      "source": [
        "df_churn.describe().show()"
      ],
      "metadata": {
        "colab": {
          "base_uri": "https://localhost:8080/"
        },
        "id": "kWZquAy8ZFEj",
        "outputId": "9739e816-18d6-40b6-ae83-b868646b7376"
      },
      "execution_count": 22,
      "outputs": [
        {
          "output_type": "stream",
          "name": "stdout",
          "text": [
            "+-------+-------------------+------------------+------------------+--------------------+------------------+-------------------+-------------------+-------------------+-------------------+------------------+-------------------+------------------+-------------------+-------------------+------------------+-------------------+-------------------+--------------------+-------------------+----------------------+-------------------+-------------------+---------------------+----------------------+--------------------+------------------+-------------------+\n",
            "|summary|      SeniorCitizen|            tenure|      Internet_DSL|Internet_Fiber optic|     Internet_none|     Contract_month|  Contract_one_year|  Contract_two_year| Payment_Electronic|    Payment_Mailed|       Payment_Bank|    Payment_Credit|       gender_index|      Partner_index|  Dependents_index| PhoneService_index|MultipleLines_index|OnlineSecurity_index| OnlineBackup_index|DeviceProtection_index|  TechSupport_index|  StreamingTV_index|StreamingMovies_index|PaperlessBilling_index|MonthlyCharges_index|TotalCharges_index|        Churn_index|\n",
            "+-------+-------------------+------------------+------------------+--------------------+------------------+-------------------+-------------------+-------------------+-------------------+------------------+-------------------+------------------+-------------------+-------------------+------------------+-------------------+-------------------+--------------------+-------------------+----------------------+-------------------+-------------------+---------------------+----------------------+--------------------+------------------+-------------------+\n",
            "|  count|               7027|              7027|              7027|                7027|              7027|               7027|               7027|               7027|               7027|              7027|               7027|              7027|               7027|               7027|              7027|               7027|               7027|                7027|               7027|                  7027|               7027|               7027|                 7027|                  7027|                7027|              7027|               7027|\n",
            "|   mean|0.16251600967696028| 32.41511313505052|0.3435320905080404|  0.4403016934680518|0.2161662160239078| 0.5511598121531237|0.20933542052084816|0.23950476732602818|0.33641667852568663|0.2282624163939092|0.21915468905649638|0.2161662160239078|0.49551729045111714|0.48256724064323325|0.2984203785399175|0.09662729472036431|0.42194393055357904|   0.286324178169916|0.34495517290451116|    0.3436743987476875|0.28988188416109295|0.38437455528675113|   0.3883591859968692|   0.40700156539063614|   423.9308381955315|3038.5360751387507|0.26583179166073717|\n",
            "| stddev| 0.3689497632905899|24.547583340294658|0.4749209312160746|  0.4964586458890354|0.4116582307979879|0.49741118124131056| 0.4068631952009691| 0.4268116186140989| 0.4725169525204319|0.4197424901727081| 0.4137031150647975| 0.411658230797988| 0.5000154843388317|0.49973156571399857|0.4575974813201981| 0.2954706153836704|  0.493904813677886|  0.4520749129800658|0.47538748647209844|    0.4749677992627625|0.45373965637857255|0.48648169116022644|  0.48741167080475684|    0.4913101284586377|   396.4754261050432| 1986.213450726814|0.44180655017705817|\n",
            "|    min|                  0|                 1|                 0|                   0|                 0|                  0|                  0|                  0|                  0|                 0|                  0|                 0|                  0|                  0|                 0|                  0|                  0|                   0|                  0|                     0|                  0|                  0|                    0|                     0|                   0|                 0|                  0|\n",
            "|    max|                  1|                72|                 1|                   1|                 1|                  1|                  1|                  1|                  1|                 1|                  1|                 1|                  1|                  1|                 1|                  1|                  1|                   1|                  1|                     1|                  1|                  1|                    1|                     1|                1582|              6524|                  1|\n",
            "+-------+-------------------+------------------+------------------+--------------------+------------------+-------------------+-------------------+-------------------+-------------------+------------------+-------------------+------------------+-------------------+-------------------+------------------+-------------------+-------------------+--------------------+-------------------+----------------------+-------------------+-------------------+---------------------+----------------------+--------------------+------------------+-------------------+\n",
            "\n"
          ]
        }
      ]
    },
    {
      "cell_type": "markdown",
      "source": [],
      "metadata": {
        "id": "zBIgKKl1ZIMe"
      }
    },
    {
      "cell_type": "markdown",
      "source": [
        "### Quantiles"
      ],
      "metadata": {
        "id": "h60CQmLTdGz-"
      }
    },
    {
      "cell_type": "code",
      "source": [
        "numeric_columns = [\"MonthlyCharges_index\", \"TotalCharges_index\"]\n",
        "\n",
        "for col in numeric_columns:\n",
        "    quantiles = df_churn.approxQuantile(col, [0.25, 0.5, 0.75], 0.01)\n",
        "    print(f\"Quartiles for {col}:\")\n",
        "    print(f\"Q1: {quantiles[0]}\")\n",
        "    print(f\"Median (Q2): {quantiles[1]}\")\n",
        "    print(f\"Q3: {quantiles[2]}\")"
      ],
      "metadata": {
        "colab": {
          "base_uri": "https://localhost:8080/"
        },
        "id": "uaxXzCi4aLKE",
        "outputId": "02262a52-e907-43a6-b593-ee6683993945"
      },
      "execution_count": 23,
      "outputs": [
        {
          "output_type": "stream",
          "name": "stdout",
          "text": [
            "Quartiles for MonthlyCharges_index:\n",
            "Q1: 91.0\n",
            "Median (Q2): 305.0\n",
            "Q3: 654.0\n",
            "Quartiles for TotalCharges_index:\n",
            "Q1: 1286.0\n",
            "Median (Q2): 2999.0\n",
            "Q3: 4724.0\n"
          ]
        }
      ]
    },
    {
      "cell_type": "markdown",
      "source": [
        "## Correlation"
      ],
      "metadata": {
        "id": "fBm-j3OIaK7D"
      }
    },
    {
      "cell_type": "code",
      "source": [
        "from pyspark.ml.feature import VectorAssembler\n",
        "from pyspark.ml.stat import Correlation"
      ],
      "metadata": {
        "id": "kYsXafJvdvZV"
      },
      "execution_count": 24,
      "outputs": []
    },
    {
      "cell_type": "code",
      "source": [
        "# List of features to calculate correlation with 'Churn_index'\n",
        "features = [\"gender_index\", \"Partner_index\", \"Dependents_index\", \"PhoneService_index\", \"MultipleLines_index\", \"OnlineSecurity_index\", \"OnlineBackup_index\", \"DeviceProtection_index\", \"TechSupport_index\", \"StreamingTV_index\", \"StreamingMovies_index\", \"PaperlessBilling_index\", \"MonthlyCharges_index\", \"TotalCharges_index\"]\n",
        "\n",
        "# VectorAssembler to combine all feature columns into a single feature vector\n",
        "assembler = VectorAssembler(inputCols=features + [\"Churn_index\"], outputCol=\"features\")\n",
        "df_vector = assembler.transform(df_churn).select(\"features\")\n",
        "\n",
        "# Compute the correlation matrix\n",
        "correlation_matrix = Correlation.corr(df_vector, \"features\").head()[0]\n",
        "\n",
        "# Convert to numpy array for easier processing\n",
        "import numpy as np\n",
        "corr_array = correlation_matrix.toArray()\n",
        "\n",
        "# Extract correlation values for 'Churn_index'\n",
        "churn_corr = corr_array[-1][:-1]\n",
        "\n",
        "# Find features with correlation above 0.0\n",
        "correlated_features = [(features[i], churn_corr[i]) for i in range(len(features)) if abs(churn_corr[i]) > 0.0]\n",
        "\n",
        "# Print the correlated features\n",
        "print(\"Features with correlation greater than 0.0 with Churn:\")\n",
        "for feature, corr_value in correlated_features:\n",
        "    print(f\"{feature}: {corr_value}\")"
      ],
      "metadata": {
        "colab": {
          "base_uri": "https://localhost:8080/"
        },
        "id": "fs73KQGwdhXB",
        "outputId": "86509a41-afa1-4069-85ac-6f127f1c0163"
      },
      "execution_count": 80,
      "outputs": [
        {
          "output_type": "stream",
          "name": "stdout",
          "text": [
            "Features with correlation greater than 0.0 with Churn:\n",
            "gender_index: 0.00797215774153338\n",
            "Partner_index: -0.15048389389755382\n",
            "Dependents_index: -0.16294156704610524\n",
            "PhoneService_index: -0.011447901324497085\n",
            "MultipleLines_index: 0.03966271448371484\n",
            "OnlineSecurity_index: -0.17092101939099683\n",
            "OnlineBackup_index: -0.082251858641938\n",
            "DeviceProtection_index: -0.06645837415723117\n",
            "TechSupport_index: -0.16507249950600686\n",
            "StreamingTV_index: 0.06290185594683406\n",
            "StreamingMovies_index: 0.06050602209866405\n",
            "PaperlessBilling_index: -0.19099106424100062\n",
            "MonthlyCharges_index: 0.019403554054145428\n",
            "TotalCharges_index: -0.09218800106003121\n"
          ]
        }
      ]
    },
    {
      "cell_type": "markdown",
      "source": [
        "**Positive/Negative Correlation:**\n",
        "\n",
        "*   Positive correlation (value > 0): As the feature increases, the likelihood of churn also increases.\n",
        "*   Negative correlation (value < 0): As the feature increases, the likelihood of churn decreases.\n",
        "*   The closer the value is to -1 or 1, the stronger the correlation.\n",
        "\n",
        "**Based on these correlations, the company might consider promoting services like online security, tech support, and promoting paper billing to reduce churn rates.**"
      ],
      "metadata": {
        "id": "ITGUnDJ3fBOl"
      }
    },
    {
      "cell_type": "code",
      "source": [
        "# Find features with correlation above 0.1\n",
        "correlated_features = [(features[i], churn_corr[i]) for i in range(len(features)) if abs(churn_corr[i]) > 0.1]\n",
        "\n",
        "print(\"Features with correlation greater than 0.1 with Churn:\")\n",
        "for feature, corr_value in correlated_features:\n",
        "    print(f\"{feature}: {corr_value}\")"
      ],
      "metadata": {
        "colab": {
          "base_uri": "https://localhost:8080/"
        },
        "id": "kxLBHnH7iDzk",
        "outputId": "d6521a3d-a435-4eaf-a8be-0a20d031c43e"
      },
      "execution_count": 81,
      "outputs": [
        {
          "output_type": "stream",
          "name": "stdout",
          "text": [
            "Features with correlation greater than 0.1 with Churn:\n",
            "Partner_index: -0.15048389389755382\n",
            "Dependents_index: -0.16294156704610524\n",
            "OnlineSecurity_index: -0.17092101939099683\n",
            "TechSupport_index: -0.16507249950600686\n",
            "PaperlessBilling_index: -0.19099106424100062\n"
          ]
        }
      ]
    },
    {
      "cell_type": "markdown",
      "source": [
        "#Modelling"
      ],
      "metadata": {
        "id": "rxWqd1nAguZN"
      }
    },
    {
      "cell_type": "markdown",
      "source": [
        "## Train and Test Sets"
      ],
      "metadata": {
        "id": "yDL03tvKgmT0"
      }
    },
    {
      "cell_type": "code",
      "source": [
        "from pyspark.ml.feature import VectorAssembler\n",
        "from pyspark.ml.classification import LogisticRegression\n",
        "from pyspark.ml.evaluation import BinaryClassificationEvaluator\n",
        "from pyspark.ml.evaluation import MulticlassClassificationEvaluator\n",
        "from pyspark.ml.feature import StandardScaler\n",
        "from pyspark.ml import Pipeline\n",
        "from pyspark.sql.functions import col, rand\n",
        "from sklearn.metrics import confusion_matrix\n",
        "import matplotlib.pyplot as plt\n",
        "import seaborn as sns"
      ],
      "metadata": {
        "id": "tQjz_7wTg6RG"
      },
      "execution_count": 64,
      "outputs": []
    },
    {
      "cell_type": "code",
      "source": [
        "train_data, test_data = df_churn.randomSplit([0.8, 0.2], seed=100)\n",
        "\n",
        "# Balancing train data\n",
        "print(f\"Number of records in training set: {train_data.count()}\")\n",
        "print(f\"Number of records in test set: {test_data.count()}\")\n",
        "\n",
        "train_data.groupBy(\"Churn_index\").count().show()\n",
        "\n",
        "total_count = train_data.count()\n",
        "churn_count = train_data.filter(train_data.Churn_index == 1).count()\n",
        "non_churn_count = train_data.filter(train_data.Churn_index == 0).count()\n",
        "\n",
        "# Calculate the fraction for non-churn to balance the classes in train data\n",
        "desired_ratio = churn_count / total_count\n",
        "non_churn_fraction = desired_ratio * total_count / non_churn_count\n",
        "\n",
        "# Define the fractions for stratified sampling to balance the test classes\n",
        "fractions = {0: non_churn_fraction, 1: 1.0}\n",
        "# Stratified Sampling to balance the test classes\n",
        "train_data_balanced = train_data.sampleBy(\"Churn_index\", fractions=fractions, seed=1234)\n",
        "\n",
        "train_data_balanced.groupBy(\"Churn_index\").count().show()\n",
        "\n",
        "# Balancing Test Data\n",
        "test_total_count = test_data.count()\n",
        "test_churn_count = test_data.filter(test_data.Churn_index == 1).count()\n",
        "test_non_churn_count = test_data.filter(test_data.Churn_index == 0).count()\n",
        "\n",
        "# Calculate the fraction for non-churn to balance the classes in test data\n",
        "test_desired_ratio = test_churn_count / test_total_count\n",
        "test_non_churn_fraction = test_desired_ratio * test_total_count / test_non_churn_count\n",
        "\n",
        "# Define the fractions for stratified sampling to balance the test classes\n",
        "test_fractions = {0: test_non_churn_fraction, 1: 1.0}\n",
        "\n",
        "# Stratified Sampling to balance the test classes\n",
        "test_data_balanced = test_data.sampleBy(\"Churn_index\", fractions=test_fractions, seed=1234)\n",
        "\n",
        "# Verify the balancing of test data\n",
        "test_data_balanced.groupBy(\"Churn_index\").count().show()\n",
        "\n",
        "# List of selected features\n",
        "features_selected = [\"Partner_index\", \"Dependents_index\", \"OnlineSecurity_index\",\n",
        "                     \"TechSupport_index\", \"PaperlessBilling_index\"]"
      ],
      "metadata": {
        "id": "4iIpyW1hL4a7",
        "colab": {
          "base_uri": "https://localhost:8080/"
        },
        "outputId": "3ba02f7e-e8d1-47f2-96bf-f8d546bdaa51"
      },
      "execution_count": 70,
      "outputs": [
        {
          "output_type": "stream",
          "name": "stdout",
          "text": [
            "Number of records in training set: 5625\n",
            "Number of records in test set: 1402\n",
            "+-----------+-----+\n",
            "|Churn_index|count|\n",
            "+-----------+-----+\n",
            "|          1| 1478|\n",
            "|          0| 4147|\n",
            "+-----------+-----+\n",
            "\n",
            "+-----------+-----+\n",
            "|Churn_index|count|\n",
            "+-----------+-----+\n",
            "|          1| 1478|\n",
            "|          0| 1504|\n",
            "+-----------+-----+\n",
            "\n",
            "+-----------+-----+\n",
            "|Churn_index|count|\n",
            "+-----------+-----+\n",
            "|          1|  390|\n",
            "|          0|  392|\n",
            "+-----------+-----+\n",
            "\n"
          ]
        }
      ]
    },
    {
      "cell_type": "code",
      "source": [
        "# Assemble features\n",
        "assembler = VectorAssembler(inputCols=features_selected, outputCol=\"features\")\n",
        "\n",
        "# Scale features\n",
        "scaler = StandardScaler(inputCol=\"features\", outputCol=\"scaledFeatures\", withStd=True, withMean=False)\n",
        "\n",
        "# Logistic regression model\n",
        "lr = LogisticRegression(featuresCol=\"scaledFeatures\", labelCol=\"Churn_index\")\n",
        "\n",
        "# Create pipeline\n",
        "pipeline = Pipeline(stages=[assembler, scaler, lr])\n",
        "\n",
        "# Trainmodel\n",
        "model = pipeline.fit(train_data_balanced)\n",
        "\n",
        "# Make predictions on the test data\n",
        "predictions = model.transform(test_data_balanced)\n",
        "\n",
        "# Evaluate the model\n",
        "evaluator = BinaryClassificationEvaluator(labelCol=\"Churn_index\")\n",
        "auc = evaluator.evaluate(predictions, {evaluator.metricName: \"areaUnderROC\"})\n",
        "print(f\"Area Under ROC: {auc}\")\n",
        "\n",
        "# Evaluation metrics\n",
        "evaluator = MulticlassClassificationEvaluator(labelCol=\"Churn_index\", predictionCol=\"prediction\")\n",
        "accuracy = evaluator.evaluate(predictions, {evaluator.metricName: \"accuracy\"})\n",
        "print(f\"Accuracy: {accuracy}\")\n"
      ],
      "metadata": {
        "colab": {
          "base_uri": "https://localhost:8080/"
        },
        "id": "O_-dBrKa51Ja",
        "outputId": "a5c038e1-cd4b-44bd-db16-3c6435419483"
      },
      "execution_count": 71,
      "outputs": [
        {
          "output_type": "stream",
          "name": "stdout",
          "text": [
            "Area Under ROC: 0.7277472527472527\n",
            "Accuracy: 0.6483375959079284\n"
          ]
        }
      ]
    },
    {
      "cell_type": "markdown",
      "source": [
        "In evaluating this model's performance, I use two main metrics:\n",
        "\n",
        "1.   Area Under ROC Curve(AUC) : 0.7277\n",
        " measures how well the model distinguishes between classes, with a higher value indicating better separation.\n",
        "2.    Accuracy : 64.83%\n",
        "measures the proportion of correct predictions out of all predictions made by the model\n",
        "\n",
        "These metrics together help us understand the model's effectiveness and identify areas for improvement."
      ],
      "metadata": {
        "id": "0LAVxaX4JiMG"
      }
    },
    {
      "cell_type": "markdown",
      "source": [
        "## Confusion Matrix"
      ],
      "metadata": {
        "id": "yt5Am0JH-rbZ"
      }
    },
    {
      "cell_type": "code",
      "source": [
        "import pandas as pd\n",
        "from sklearn.metrics import confusion_matrix, ConfusionMatrixDisplay"
      ],
      "metadata": {
        "id": "FLVHYAOr-naN"
      },
      "execution_count": 72,
      "outputs": []
    },
    {
      "cell_type": "code",
      "source": [
        "predictions_pd = predictions.select(\"prediction\", \"Churn_index\").toPandas()\n",
        "\n",
        "cm = confusion_matrix(predictions_pd['Churn_index'], predictions_pd['prediction'])\n",
        "import matplotlib.pyplot as plt\n",
        "\n",
        "disp = ConfusionMatrixDisplay(confusion_matrix=cm, display_labels=['Non-Churn', 'Churn'])\n",
        "disp.plot(cmap=plt.cm.Blues)\n",
        "plt.show()"
      ],
      "metadata": {
        "colab": {
          "base_uri": "https://localhost:8080/",
          "height": 449
        },
        "id": "M0odOszA9vr6",
        "outputId": "86e2b313-9a64-4fc3-bff2-03ac12a8049e"
      },
      "execution_count": 66,
      "outputs": [
        {
          "output_type": "display_data",
          "data": {
            "text/plain": [
              "<Figure size 640x480 with 2 Axes>"
            ],
            "image/png": "[encoded data removed]"
          },
          "metadata": {}
        }
      ]
    }
  ]
}