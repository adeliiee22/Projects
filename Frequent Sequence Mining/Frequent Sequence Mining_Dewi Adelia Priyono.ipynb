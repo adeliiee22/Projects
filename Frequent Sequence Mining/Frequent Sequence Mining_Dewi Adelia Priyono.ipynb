{
  "nbformat": 4,
  "nbformat_minor": 0,
  "metadata": {
    "colab": {
      "provenance": []
    },
    "kernelspec": {
      "name": "python3",
      "display_name": "Python 3"
    },
    "language_info": {
      "name": "python"
    }
  },
  "cells": [
    {
      "cell_type": "markdown",
      "source": [
        "<h1> Final Exam Big Data Analytic <h1>"
      ],
      "metadata": {
        "id": "H-8PNUaMY_Qy"
      }
    },
    {
      "cell_type": "markdown",
      "source": [
        "Name: Dewi Adelia Priyono\n",
        "\n",
        "\n",
        "NIM: 22/496118/PA/21305"
      ],
      "metadata": {
        "id": "GTm9Dw5fY3Cs"
      }
    },
    {
      "cell_type": "markdown",
      "source": [
        "# Creating Session"
      ],
      "metadata": {
        "id": "-JXPUPt-Zf7W"
      }
    },
    {
      "cell_type": "code",
      "source": [
        "!pip install pyspark\n"
      ],
      "metadata": {
        "colab": {
          "base_uri": "https://localhost:8080/"
        },
        "id": "1a4-IyrdRK8e",
        "outputId": "83bfb87b-205a-43d4-8f15-41693f635821"
      },
      "execution_count": 2,
      "outputs": [
        {
          "output_type": "stream",
          "name": "stdout",
          "text": [
            "Collecting pyspark\n",
            "  Downloading pyspark-3.5.1.tar.gz (317.0 MB)\n",
            "\u001b[2K     \u001b[90m━━━━━━━━━━━━━━━━━━━━━━━━━━━━━━━━━━━━━━━━\u001b[0m \u001b[32m317.0/317.0 MB\u001b[0m \u001b[31m1.9 MB/s\u001b[0m eta \u001b[36m0:00:00\u001b[0m\n",
            "\u001b[?25h  Preparing metadata (setup.py) ... \u001b[?25l\u001b[?25hdone\n",
            "Requirement already satisfied: py4j==0.10.9.7 in /usr/local/lib/python3.10/dist-packages (from pyspark) (0.10.9.7)\n",
            "Building wheels for collected packages: pyspark\n",
            "  Building wheel for pyspark (setup.py) ... \u001b[?25l\u001b[?25hdone\n",
            "  Created wheel for pyspark: filename=pyspark-3.5.1-py2.py3-none-any.whl size=317488491 sha256=74daec18b6be6107a30b4e72f2395f76426d33b4dce8d8e1c4f6f5e07b5e8eea\n",
            "  Stored in directory: /root/.cache/pip/wheels/80/1d/60/2c256ed38dddce2fdd93be545214a63e02fbd8d74fb0b7f3a6\n",
            "Successfully built pyspark\n",
            "Installing collected packages: pyspark\n",
            "Successfully installed pyspark-3.5.1\n"
          ]
        }
      ]
    },
    {
      "cell_type": "code",
      "source": [
        "from pyspark.sql import SparkSession\n",
        "\n",
        "# Create a Spark session\n",
        "spark = SparkSession.builder.appName(\"TransactionAnalysis\").getOrCreate()\n"
      ],
      "metadata": {
        "id": "YSi-uFr6RNDk"
      },
      "execution_count": 3,
      "outputs": []
    },
    {
      "cell_type": "code",
      "execution_count": 1,
      "metadata": {
        "id": "8ZWU8t5GNvKN",
        "colab": {
          "base_uri": "https://localhost:8080/"
        },
        "outputId": "acabd333-7942-489b-d94c-753a45cdc773"
      },
      "outputs": [
        {
          "output_type": "stream",
          "name": "stdout",
          "text": [
            "Requirement already satisfied: pandas in /usr/local/lib/python3.10/dist-packages (2.0.3)\n",
            "Requirement already satisfied: mlxtend in /usr/local/lib/python3.10/dist-packages (0.22.0)\n",
            "Requirement already satisfied: python-dateutil>=2.8.2 in /usr/local/lib/python3.10/dist-packages (from pandas) (2.8.2)\n",
            "Requirement already satisfied: pytz>=2020.1 in /usr/local/lib/python3.10/dist-packages (from pandas) (2023.4)\n",
            "Requirement already satisfied: tzdata>=2022.1 in /usr/local/lib/python3.10/dist-packages (from pandas) (2024.1)\n",
            "Requirement already satisfied: numpy>=1.21.0 in /usr/local/lib/python3.10/dist-packages (from pandas) (1.25.2)\n",
            "Requirement already satisfied: scipy>=1.2.1 in /usr/local/lib/python3.10/dist-packages (from mlxtend) (1.11.4)\n",
            "Requirement already satisfied: scikit-learn>=1.0.2 in /usr/local/lib/python3.10/dist-packages (from mlxtend) (1.2.2)\n",
            "Requirement already satisfied: matplotlib>=3.0.0 in /usr/local/lib/python3.10/dist-packages (from mlxtend) (3.7.1)\n",
            "Requirement already satisfied: joblib>=0.13.2 in /usr/local/lib/python3.10/dist-packages (from mlxtend) (1.4.2)\n",
            "Requirement already satisfied: setuptools in /usr/local/lib/python3.10/dist-packages (from mlxtend) (67.7.2)\n",
            "Requirement already satisfied: contourpy>=1.0.1 in /usr/local/lib/python3.10/dist-packages (from matplotlib>=3.0.0->mlxtend) (1.2.1)\n",
            "Requirement already satisfied: cycler>=0.10 in /usr/local/lib/python3.10/dist-packages (from matplotlib>=3.0.0->mlxtend) (0.12.1)\n",
            "Requirement already satisfied: fonttools>=4.22.0 in /usr/local/lib/python3.10/dist-packages (from matplotlib>=3.0.0->mlxtend) (4.53.0)\n",
            "Requirement already satisfied: kiwisolver>=1.0.1 in /usr/local/lib/python3.10/dist-packages (from matplotlib>=3.0.0->mlxtend) (1.4.5)\n",
            "Requirement already satisfied: packaging>=20.0 in /usr/local/lib/python3.10/dist-packages (from matplotlib>=3.0.0->mlxtend) (24.1)\n",
            "Requirement already satisfied: pillow>=6.2.0 in /usr/local/lib/python3.10/dist-packages (from matplotlib>=3.0.0->mlxtend) (9.4.0)\n",
            "Requirement already satisfied: pyparsing>=2.3.1 in /usr/local/lib/python3.10/dist-packages (from matplotlib>=3.0.0->mlxtend) (3.1.2)\n",
            "Requirement already satisfied: six>=1.5 in /usr/local/lib/python3.10/dist-packages (from python-dateutil>=2.8.2->pandas) (1.16.0)\n",
            "Requirement already satisfied: threadpoolctl>=2.0.0 in /usr/local/lib/python3.10/dist-packages (from scikit-learn>=1.0.2->mlxtend) (3.5.0)\n"
          ]
        }
      ],
      "source": [
        "pip install pandas mlxtend\n"
      ]
    },
    {
      "cell_type": "code",
      "source": [
        "from google.colab import drive\n",
        "drive.mount('/content/drive')\n"
      ],
      "metadata": {
        "colab": {
          "base_uri": "https://localhost:8080/"
        },
        "id": "uShdFnf2ROCZ",
        "outputId": "cd390755-f26f-4375-e69b-c824f5a2fde0"
      },
      "execution_count": 4,
      "outputs": [
        {
          "output_type": "stream",
          "name": "stdout",
          "text": [
            "Mounted at /content/drive\n"
          ]
        }
      ]
    },
    {
      "cell_type": "markdown",
      "source": [],
      "metadata": {
        "id": "AcPu7VwRRYXo"
      }
    },
    {
      "cell_type": "markdown",
      "source": [
        "# Read the Dataset and Calculate Statistics"
      ],
      "metadata": {
        "id": "tzv5riuTRx9z"
      }
    },
    {
      "cell_type": "code",
      "source": [
        "# Path to the dataset in the Google Drive\n",
        "file_path = '/content/drive/MyDrive/Big data 2024/mushrooms.txt'\n",
        "\n",
        "# Read the dataset\n",
        "with open(file_path, 'r') as file:\n",
        "    data = [line.strip().split() for line in file.readlines()]\n",
        "\n",
        "# Preprocessing\n",
        "# Ensure all transactions are lists of strings\n",
        "data = [[str(item) for item in transaction] for transaction in data]\n",
        "\n",
        "# Convert data to a DataFrame\n",
        "from pyspark.sql import Row\n",
        "\n",
        "# Create a list of Rows with each transaction length\n",
        "rows = [Row(transaction_length=len(transaction)) for transaction in data]\n",
        "df = spark.createDataFrame(rows)\n",
        "\n",
        "# Calculate statistics\n",
        "max_length = df.agg({\"transaction_length\": \"max\"}).collect()[0][0]\n",
        "min_length = df.agg({\"transaction_length\": \"min\"}).collect()[0][0]\n",
        "avg_length = df.agg({\"transaction_length\": \"avg\"}).collect()[0][0]\n",
        "\n",
        "print(f\"Max Length: {max_length}\")\n",
        "print(f\"Min Length: {min_length}\")\n",
        "print(f\"Average Length: {avg_length:.2f}\")\n"
      ],
      "metadata": {
        "colab": {
          "base_uri": "https://localhost:8080/"
        },
        "id": "0ayd1SiZRYy9",
        "outputId": "2a0ddf2f-7e8d-473e-cb2e-284dcfae39c2"
      },
      "execution_count": 22,
      "outputs": [
        {
          "output_type": "stream",
          "name": "stderr",
          "text": [
            "/usr/local/lib/python3.10/dist-packages/ipykernel/ipkernel.py:283: DeprecationWarning: `should_run_async` will not call `transform_cell` automatically in the future. Please pass the result to `transformed_cell` argument and any exception that happen during thetransform in `preprocessing_exc_tuple` in IPython 7.17 and above.\n",
            "  and should_run_async(code)\n"
          ]
        },
        {
          "output_type": "stream",
          "name": "stdout",
          "text": [
            "Max Length: 23\n",
            "Min Length: 23\n",
            "Average Length: 23.00\n"
          ]
        }
      ]
    },
    {
      "cell_type": "markdown",
      "source": [
        "# Apply the Apriori Algorithm"
      ],
      "metadata": {
        "id": "O0oEy_YISE0O"
      }
    },
    {
      "cell_type": "markdown",
      "source": [
        "# Generating All Frequent Itemset with minsup 70%"
      ],
      "metadata": {
        "id": "k6lY13YKUJP7"
      }
    },
    {
      "cell_type": "code",
      "source": [
        "import pandas as pd\n",
        "from mlxtend.frequent_patterns import apriori\n",
        "\n",
        "# One-hot encode the data\n",
        "all_items = set(item for transaction in data for item in transaction)\n",
        "encoded_vals = []\n",
        "\n",
        "for transaction in data:\n",
        "    row = {item: (item in transaction) for item in all_items}\n",
        "    encoded_vals.append(row)\n",
        "\n",
        "oht_df = pd.DataFrame(encoded_vals)"
      ],
      "metadata": {
        "colab": {
          "base_uri": "https://localhost:8080/"
        },
        "id": "5X51ZltbRcxe",
        "outputId": "aa60c9dc-62fb-40dc-d04e-90d149b935f9"
      },
      "execution_count": 11,
      "outputs": [
        {
          "output_type": "stream",
          "name": "stderr",
          "text": [
            "/usr/local/lib/python3.10/dist-packages/ipykernel/ipkernel.py:283: DeprecationWarning: `should_run_async` will not call `transform_cell` automatically in the future. Please pass the result to `transformed_cell` argument and any exception that happen during thetransform in `preprocessing_exc_tuple` in IPython 7.17 and above.\n",
            "  and should_run_async(code)\n"
          ]
        }
      ]
    },
    {
      "cell_type": "code",
      "source": [
        "# Apply the Apriori algorithm with a minimum support of 70%\n",
        "frequent_itemsets = apriori(oht_df, min_support=0.7, use_colnames=True)\n",
        "\n",
        "# Print the frequent itemsets\n",
        "print(\"Frequent Itemsets:\")\n",
        "print(frequent_itemsets)\n",
        "\n",
        "# Count the number of frequent itemsets of different lengths\n",
        "length_counts = frequent_itemsets['itemsets'].apply(lambda x: len(x)).value_counts().sort_index()\n",
        "for length, count in length_counts.items():\n",
        "    print(f\"Number of frequent itemsets of length {length}: {count}\")"
      ],
      "metadata": {
        "colab": {
          "base_uri": "https://localhost:8080/"
        },
        "id": "kEZqPDYQUSuz",
        "outputId": "d10d1c29-edef-4843-c798-0aca12d0c74a"
      },
      "execution_count": 12,
      "outputs": [
        {
          "output_type": "stream",
          "name": "stdout",
          "text": [
            "Frequent Itemsets:\n",
            "     support              itemsets\n",
            "0   0.810837                  (38)\n",
            "1   0.923004                  (97)\n",
            "2   0.974335                  (36)\n",
            "3   0.976236                  (94)\n",
            "4   1.000000                  (90)\n",
            "5   0.768061              (38, 97)\n",
            "6   0.785171              (38, 36)\n",
            "7   0.788023              (38, 94)\n",
            "8   0.810837              (38, 90)\n",
            "9   0.900190              (36, 97)\n",
            "10  0.899240              (94, 97)\n",
            "11  0.923004              (90, 97)\n",
            "12  0.973384              (94, 36)\n",
            "13  0.974335              (36, 90)\n",
            "14  0.976236              (94, 90)\n",
            "15  0.745247          (36, 38, 97)\n",
            "16  0.745247          (94, 38, 97)\n",
            "17  0.768061          (90, 38, 97)\n",
            "18  0.785171          (36, 38, 94)\n",
            "19  0.785171          (36, 38, 90)\n",
            "20  0.788023          (94, 38, 90)\n",
            "21  0.899240          (36, 94, 97)\n",
            "22  0.900190          (90, 36, 97)\n",
            "23  0.899240          (90, 94, 97)\n",
            "24  0.973384          (36, 94, 90)\n",
            "25  0.745247      (94, 38, 36, 97)\n",
            "26  0.745247      (90, 36, 38, 97)\n",
            "27  0.745247      (90, 94, 38, 97)\n",
            "28  0.785171      (94, 38, 36, 90)\n",
            "29  0.899240      (90, 36, 94, 97)\n",
            "30  0.745247  (36, 90, 94, 97, 38)\n",
            "Number of frequent itemsets of length 1: 5\n",
            "Number of frequent itemsets of length 2: 10\n",
            "Number of frequent itemsets of length 3: 10\n",
            "Number of frequent itemsets of length 4: 5\n",
            "Number of frequent itemsets of length 5: 1\n"
          ]
        },
        {
          "output_type": "stream",
          "name": "stderr",
          "text": [
            "/usr/local/lib/python3.10/dist-packages/ipykernel/ipkernel.py:283: DeprecationWarning: `should_run_async` will not call `transform_cell` automatically in the future. Please pass the result to `transformed_cell` argument and any exception that happen during thetransform in `preprocessing_exc_tuple` in IPython 7.17 and above.\n",
            "  and should_run_async(code)\n"
          ]
        }
      ]
    },
    {
      "cell_type": "markdown",
      "source": [
        "# Bar chart for number of frequent itemset"
      ],
      "metadata": {
        "id": "hgqEXQrsU7DE"
      }
    },
    {
      "cell_type": "code",
      "source": [
        "import matplotlib.pyplot as plt"
      ],
      "metadata": {
        "colab": {
          "base_uri": "https://localhost:8080/"
        },
        "id": "C9tm4GEeVIhn",
        "outputId": "bc30fda4-a067-42ed-b8d9-b1bd97bcef49"
      },
      "execution_count": 14,
      "outputs": [
        {
          "output_type": "stream",
          "name": "stderr",
          "text": [
            "/usr/local/lib/python3.10/dist-packages/ipykernel/ipkernel.py:283: DeprecationWarning: `should_run_async` will not call `transform_cell` automatically in the future. Please pass the result to `transformed_cell` argument and any exception that happen during thetransform in `preprocessing_exc_tuple` in IPython 7.17 and above.\n",
            "  and should_run_async(code)\n"
          ]
        }
      ]
    },
    {
      "cell_type": "code",
      "source": [
        "# Count the number of frequent itemsets of different lengths\n",
        "length_counts = frequent_itemsets['itemsets'].apply(lambda x: len(x)).value_counts().sort_index()\n",
        "\n",
        "# Visualize the number of frequent itemsets for each length using a bar chart\n",
        "length_counts.plot(kind='bar', figsize=(10, 6))\n",
        "plt.xlabel('Itemset Length')\n",
        "plt.ylabel('Number of Frequent Itemsets')\n",
        "plt.title('Number of Frequent Itemsets by Length')\n",
        "plt.show()"
      ],
      "metadata": {
        "colab": {
          "base_uri": "https://localhost:8080/",
          "height": 614
        },
        "id": "mf-q6_U_U6AH",
        "outputId": "b6224e4b-af9a-484d-b5ab-6aa9004f01d4"
      },
      "execution_count": 15,
      "outputs": [
        {
          "output_type": "stream",
          "name": "stderr",
          "text": [
            "/usr/local/lib/python3.10/dist-packages/ipykernel/ipkernel.py:283: DeprecationWarning: `should_run_async` will not call `transform_cell` automatically in the future. Please pass the result to `transformed_cell` argument and any exception that happen during thetransform in `preprocessing_exc_tuple` in IPython 7.17 and above.\n",
            "  and should_run_async(code)\n"
          ]
        },
        {
          "output_type": "display_data",
          "data": {
            "text/plain": [
              "<Figure size 1000x600 with 1 Axes>"
            ],
            "image/png": "[encoded data removed]"
          },
          "metadata": {}
        }
      ]
    },
    {
      "cell_type": "markdown",
      "source": [
        "# Association rules for minimum confidence value 95% to 100%"
      ],
      "metadata": {
        "id": "W40tYa9PV9qO"
      }
    },
    {
      "cell_type": "code",
      "source": [
        "from mlxtend.frequent_patterns import apriori, association_rules"
      ],
      "metadata": {
        "colab": {
          "base_uri": "https://localhost:8080/"
        },
        "id": "L0jI88jVW3Mh",
        "outputId": "1bcd904f-e48d-44a6-a690-65b271304d27"
      },
      "execution_count": 17,
      "outputs": [
        {
          "output_type": "stream",
          "name": "stderr",
          "text": [
            "/usr/local/lib/python3.10/dist-packages/ipykernel/ipkernel.py:283: DeprecationWarning: `should_run_async` will not call `transform_cell` automatically in the future. Please pass the result to `transformed_cell` argument and any exception that happen during thetransform in `preprocessing_exc_tuple` in IPython 7.17 and above.\n",
            "  and should_run_async(code)\n"
          ]
        }
      ]
    },
    {
      "cell_type": "code",
      "source": [
        "# Define the confidence levels to evaluate\n",
        "confidence_levels = [0.95, 0.96, 0.97, 0.98, 0.99, 1.0]\n",
        "\n",
        "# Dictionary to store the number of rules for each confidence level\n",
        "num_rules = {}\n",
        "\n",
        "for confidence in confidence_levels:\n",
        "    rules = association_rules(frequent_itemsets, metric=\"confidence\", min_threshold=confidence)\n",
        "    num_rules[confidence] = len(rules)\n",
        "    print(f\"Number of association rules with {int(confidence * 100)}% confidence: {num_rules[confidence]}\")"
      ],
      "metadata": {
        "colab": {
          "base_uri": "https://localhost:8080/"
        },
        "id": "9MFSQKKIWFtP",
        "outputId": "0fa0cde8-cf39-41da-9b70-a0397593bdac"
      },
      "execution_count": 19,
      "outputs": [
        {
          "output_type": "stream",
          "name": "stdout",
          "text": [
            "Number of association rules with 95% confidence: 69\n",
            "Number of association rules with 96% confidence: 69\n",
            "Number of association rules with 97% confidence: 63\n",
            "Number of association rules with 98% confidence: 39\n",
            "Number of association rules with 99% confidence: 39\n",
            "Number of association rules with 100% confidence: 27\n"
          ]
        },
        {
          "output_type": "stream",
          "name": "stderr",
          "text": [
            "/usr/local/lib/python3.10/dist-packages/ipykernel/ipkernel.py:283: DeprecationWarning: `should_run_async` will not call `transform_cell` automatically in the future. Please pass the result to `transformed_cell` argument and any exception that happen during thetransform in `preprocessing_exc_tuple` in IPython 7.17 and above.\n",
            "  and should_run_async(code)\n"
          ]
        }
      ]
    },
    {
      "cell_type": "markdown",
      "source": [
        "# Bar chart for number of association rules by confidence level"
      ],
      "metadata": {
        "id": "k0GQcZH8XNYO"
      }
    },
    {
      "cell_type": "code",
      "source": [
        "# Plot the number of association rules for each confidence level\n",
        "plt.figure(figsize=(10, 6))\n",
        "plt.bar([str(int(conf * 100)) + '%' for conf in confidence_levels], num_rules.values())\n",
        "plt.xlabel('Confidence Level')\n",
        "plt.ylabel('Number of Association Rules')\n",
        "plt.title('Number of Association Rules by Confidence Level')\n",
        "plt.show()\n"
      ],
      "metadata": {
        "colab": {
          "base_uri": "https://localhost:8080/",
          "height": 619
        },
        "id": "HvhtpRIKXJ52",
        "outputId": "da7566ad-9ec6-491b-b21b-a1116d4cc49b"
      },
      "execution_count": 20,
      "outputs": [
        {
          "output_type": "stream",
          "name": "stderr",
          "text": [
            "/usr/local/lib/python3.10/dist-packages/ipykernel/ipkernel.py:283: DeprecationWarning: `should_run_async` will not call `transform_cell` automatically in the future. Please pass the result to `transformed_cell` argument and any exception that happen during thetransform in `preprocessing_exc_tuple` in IPython 7.17 and above.\n",
            "  and should_run_async(code)\n"
          ]
        },
        {
          "output_type": "display_data",
          "data": {
            "text/plain": [
              "<Figure size 1000x600 with 1 Axes>"
            ],
            "image/png": "[encoded data removed]"
          },
          "metadata": {}
        }
      ]
    }
  ]
}